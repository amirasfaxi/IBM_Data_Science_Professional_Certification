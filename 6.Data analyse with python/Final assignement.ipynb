https://eu-gb.dataplatform.cloud.ibm.com/analytics/notebooks/v2/81c05141-8432-4c07-aa78-b346c603c19f/view?access_token=2fdf9514c8d549c67cac2c9a404f03596f60b8ecc4bb081e921fb7ea686600c4
